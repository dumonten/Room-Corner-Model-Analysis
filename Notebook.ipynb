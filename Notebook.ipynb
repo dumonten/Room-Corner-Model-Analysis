{
 "cells": [
  {
   "cell_type": "markdown",
   "id": "4aca6fab-a309-4e1f-bfee-f44e8c40fcf1",
   "metadata": {},
   "source": [
    "# Analysis of the model performance"
   ]
  },
  {
   "cell_type": "markdown",
   "id": "3d4a00b7-2fa2-4bd5-b85e-ad7c7ba34ab1",
   "metadata": {},
   "source": [
    "## Preparation part\n",
    "\n",
    "First of all, install all necessary dependencies and execute the `main.py` script. \n",
    "The script requires a URI as an input parameter, which points to a JSON file containing the model's operation results on a specified dataset.\n",
    "`main.py` will fill `plots` folder with necessary images of model statistics. If images already exist in the folder, they will be replaced. "
   ]
  },
  {
   "cell_type": "code",
   "execution_count": 49,
   "id": "0a682dd3-83e3-4d83-9e7b-84d6ab1d3f21",
   "metadata": {},
   "outputs": [
    {
     "name": "stdout",
     "output_type": "stream",
     "text": [
      "Defaulting to user installation because normal site-packages is not writeable\n",
      "Requirement already satisfied: aiohttp==3.9.5 in /home/dumonten/.local/lib/python3.12/site-packages (from -r requirements.txt (line 1)) (3.9.5)\n",
      "Requirement already satisfied: aiosignal==1.3.1 in /usr/lib/python3.12/site-packages (from -r requirements.txt (line 2)) (1.3.1)\n",
      "Requirement already satisfied: asttokens==2.4.1 in /usr/lib/python3.12/site-packages (from -r requirements.txt (line 3)) (2.4.1)\n",
      "Requirement already satisfied: attrs==23.2.0 in /home/dumonten/.local/lib/python3.12/site-packages (from -r requirements.txt (line 4)) (23.2.0)\n",
      "Requirement already satisfied: beautifulsoup4==4.12.3 in /usr/lib/python3.12/site-packages (from -r requirements.txt (line 5)) (4.12.3)\n",
      "Requirement already satisfied: bleach==6.1.0 in /usr/lib/python3.12/site-packages (from -r requirements.txt (line 6)) (6.1.0)\n",
      "Requirement already satisfied: certifi==2024.2.2 in /home/dumonten/.local/lib/python3.12/site-packages (from -r requirements.txt (line 7)) (2024.2.2)\n",
      "Requirement already satisfied: charset-normalizer==3.3.2 in /home/dumonten/.local/lib/python3.12/site-packages (from -r requirements.txt (line 8)) (3.3.2)\n",
      "Requirement already satisfied: comm==0.2.2 in /home/dumonten/.local/lib/python3.12/site-packages (from -r requirements.txt (line 9)) (0.2.2)\n",
      "Requirement already satisfied: contourpy==1.2.1 in /home/dumonten/.local/lib/python3.12/site-packages (from -r requirements.txt (line 10)) (1.2.1)\n",
      "Requirement already satisfied: cssutils==2.10.2 in /home/dumonten/.local/lib/python3.12/site-packages (from -r requirements.txt (line 11)) (2.10.2)\n",
      "Requirement already satisfied: cycler==0.12.1 in /home/dumonten/.local/lib/python3.12/site-packages (from -r requirements.txt (line 12)) (0.12.1)\n",
      "Requirement already satisfied: debugpy==1.8.1 in /home/dumonten/.local/lib/python3.12/site-packages (from -r requirements.txt (line 13)) (1.8.1)\n",
      "Requirement already satisfied: decorator==5.1.1 in /usr/lib/python3.12/site-packages (from -r requirements.txt (line 14)) (5.1.1)\n",
      "Requirement already satisfied: defusedxml==0.7.1 in /usr/lib/python3.12/site-packages (from -r requirements.txt (line 15)) (0.7.1)\n",
      "Requirement already satisfied: executing==2.0.1 in /home/dumonten/.local/lib/python3.12/site-packages (from -r requirements.txt (line 16)) (2.0.1)\n",
      "Requirement already satisfied: fastjsonschema==2.19.1 in /home/dumonten/.local/lib/python3.12/site-packages (from -r requirements.txt (line 17)) (2.19.1)\n",
      "Requirement already satisfied: fonttools==4.51.0 in /home/dumonten/.local/lib/python3.12/site-packages (from -r requirements.txt (line 18)) (4.51.0)\n",
      "Requirement already satisfied: frozenlist==1.4.1 in /home/dumonten/.local/lib/python3.12/site-packages (from -r requirements.txt (line 19)) (1.4.1)\n",
      "Requirement already satisfied: html2image==2.0.4.3 in /home/dumonten/.local/lib/python3.12/site-packages (from -r requirements.txt (line 20)) (2.0.4.3)\n",
      "Requirement already satisfied: idna==3.7 in /home/dumonten/.local/lib/python3.12/site-packages (from -r requirements.txt (line 21)) (3.7)\n",
      "Requirement already satisfied: ipykernel==6.29.4 in /home/dumonten/.local/lib/python3.12/site-packages (from -r requirements.txt (line 22)) (6.29.4)\n",
      "Requirement already satisfied: ipython==8.23.0 in /home/dumonten/.local/lib/python3.12/site-packages (from -r requirements.txt (line 23)) (8.23.0)\n",
      "Requirement already satisfied: jedi==0.19.1 in /home/dumonten/.local/lib/python3.12/site-packages (from -r requirements.txt (line 24)) (0.19.1)\n",
      "Requirement already satisfied: Jinja2==3.1.3 in /usr/lib/python3.12/site-packages (from -r requirements.txt (line 25)) (3.1.3)\n",
      "Requirement already satisfied: joblib==1.4.0 in /home/dumonten/.local/lib/python3.12/site-packages (from -r requirements.txt (line 26)) (1.4.0)\n",
      "Requirement already satisfied: jsonschema==4.21.1 in /home/dumonten/.local/lib/python3.12/site-packages (from -r requirements.txt (line 27)) (4.21.1)\n",
      "Requirement already satisfied: jsonschema-specifications==2023.12.1 in /home/dumonten/.local/lib/python3.12/site-packages (from -r requirements.txt (line 28)) (2023.12.1)\n",
      "Requirement already satisfied: jupyter_client==8.6.1 in /home/dumonten/.local/lib/python3.12/site-packages (from -r requirements.txt (line 29)) (8.6.1)\n",
      "Requirement already satisfied: jupyter_core==5.7.2 in /home/dumonten/.local/lib/python3.12/site-packages (from -r requirements.txt (line 30)) (5.7.2)\n",
      "Requirement already satisfied: jupyterlab_pygments==0.3.0 in /home/dumonten/.local/lib/python3.12/site-packages (from -r requirements.txt (line 31)) (0.3.0)\n",
      "Requirement already satisfied: kiwisolver==1.4.5 in /home/dumonten/.local/lib/python3.12/site-packages (from -r requirements.txt (line 32)) (1.4.5)\n",
      "Requirement already satisfied: lxml==5.2.1 in /home/dumonten/.local/lib/python3.12/site-packages (from -r requirements.txt (line 33)) (5.2.1)\n",
      "Requirement already satisfied: MarkupSafe==2.1.5 in /home/dumonten/.local/lib/python3.12/site-packages (from -r requirements.txt (line 34)) (2.1.5)\n",
      "Requirement already satisfied: matplotlib==3.8.4 in /home/dumonten/.local/lib/python3.12/site-packages (from -r requirements.txt (line 35)) (3.8.4)\n",
      "Requirement already satisfied: matplotlib-inline==0.1.7 in /home/dumonten/.local/lib/python3.12/site-packages (from -r requirements.txt (line 36)) (0.1.7)\n",
      "Requirement already satisfied: mistune==3.0.2 in /home/dumonten/.local/lib/python3.12/site-packages (from -r requirements.txt (line 37)) (3.0.2)\n",
      "Requirement already satisfied: multidict==6.0.5 in /home/dumonten/.local/lib/python3.12/site-packages (from -r requirements.txt (line 38)) (6.0.5)\n",
      "Requirement already satisfied: nbclient==0.10.0 in /home/dumonten/.local/lib/python3.12/site-packages (from -r requirements.txt (line 39)) (0.10.0)\n",
      "Requirement already satisfied: nbconvert==7.16.3 in /home/dumonten/.local/lib/python3.12/site-packages (from -r requirements.txt (line 40)) (7.16.3)\n",
      "Requirement already satisfied: nbformat==5.10.4 in /home/dumonten/.local/lib/python3.12/site-packages (from -r requirements.txt (line 41)) (5.10.4)\n",
      "Requirement already satisfied: nest-asyncio==1.6.0 in /home/dumonten/.local/lib/python3.12/site-packages (from -r requirements.txt (line 42)) (1.6.0)\n",
      "Requirement already satisfied: numpy==1.26.4 in /home/dumonten/.local/lib/python3.12/site-packages (from -r requirements.txt (line 43)) (1.26.4)\n",
      "Requirement already satisfied: packaging==24.0 in /home/dumonten/.local/lib/python3.12/site-packages (from -r requirements.txt (line 44)) (24.0)\n",
      "Requirement already satisfied: pandas==2.2.2 in /home/dumonten/.local/lib/python3.12/site-packages (from -r requirements.txt (line 45)) (2.2.2)\n",
      "Requirement already satisfied: pandocfilters==1.5.1 in /home/dumonten/.local/lib/python3.12/site-packages (from -r requirements.txt (line 46)) (1.5.1)\n",
      "Requirement already satisfied: parso==0.8.4 in /home/dumonten/.local/lib/python3.12/site-packages (from -r requirements.txt (line 47)) (0.8.4)\n",
      "Requirement already satisfied: pexpect==4.9.0 in /home/dumonten/.local/lib/python3.12/site-packages (from -r requirements.txt (line 48)) (4.9.0)\n",
      "Requirement already satisfied: pillow==10.3.0 in /home/dumonten/.local/lib/python3.12/site-packages (from -r requirements.txt (line 49)) (10.3.0)\n",
      "Requirement already satisfied: platformdirs==4.2.0 in /home/dumonten/.local/lib/python3.12/site-packages (from -r requirements.txt (line 50)) (4.2.0)\n",
      "Requirement already satisfied: prompt-toolkit==3.0.43 in /home/dumonten/.local/lib/python3.12/site-packages (from -r requirements.txt (line 51)) (3.0.43)\n",
      "Requirement already satisfied: psutil==5.9.8 in /home/dumonten/.local/lib/python3.12/site-packages (from -r requirements.txt (line 52)) (5.9.8)\n",
      "Requirement already satisfied: ptyprocess==0.7.0 in /usr/lib/python3.12/site-packages (from -r requirements.txt (line 53)) (0.7.0)\n",
      "Requirement already satisfied: pure-eval==0.2.2 in /usr/lib/python3.12/site-packages (from -r requirements.txt (line 54)) (0.2.2)\n",
      "Requirement already satisfied: Pygments==2.17.2 in /home/dumonten/.local/lib/python3.12/site-packages (from -r requirements.txt (line 55)) (2.17.2)\n",
      "Requirement already satisfied: pyparsing==3.1.2 in /home/dumonten/.local/lib/python3.12/site-packages (from -r requirements.txt (line 56)) (3.1.2)\n",
      "Requirement already satisfied: python-dateutil==2.9.0.post0 in /home/dumonten/.local/lib/python3.12/site-packages (from -r requirements.txt (line 57)) (2.9.0.post0)\n",
      "Requirement already satisfied: pytz==2024.1 in /usr/lib/python3.12/site-packages (from -r requirements.txt (line 58)) (2024.1)\n",
      "Requirement already satisfied: pyzmq==26.0.0 in /home/dumonten/.local/lib/python3.12/site-packages (from -r requirements.txt (line 59)) (26.0.0)\n",
      "Requirement already satisfied: referencing==0.34.0 in /home/dumonten/.local/lib/python3.12/site-packages (from -r requirements.txt (line 60)) (0.34.0)\n",
      "Requirement already satisfied: requests==2.31.0 in /home/dumonten/.local/lib/python3.12/site-packages (from -r requirements.txt (line 61)) (2.31.0)\n",
      "Requirement already satisfied: rpds-py==0.18.0 in /home/dumonten/.local/lib/python3.12/site-packages (from -r requirements.txt (line 62)) (0.18.0)\n",
      "Requirement already satisfied: scikit-learn==1.4.2 in /home/dumonten/.local/lib/python3.12/site-packages (from -r requirements.txt (line 63)) (1.4.2)\n",
      "Requirement already satisfied: scipy==1.13.0 in /home/dumonten/.local/lib/python3.12/site-packages (from -r requirements.txt (line 64)) (1.13.0)\n",
      "Requirement already satisfied: seaborn==0.13.2 in /home/dumonten/.local/lib/python3.12/site-packages (from -r requirements.txt (line 65)) (0.13.2)\n",
      "Requirement already satisfied: six==1.16.0 in /usr/lib/python3.12/site-packages (from -r requirements.txt (line 66)) (1.16.0)\n",
      "Requirement already satisfied: soupsieve==2.5 in /usr/lib/python3.12/site-packages (from -r requirements.txt (line 67)) (2.5)\n",
      "Requirement already satisfied: stack-data==0.6.3 in /home/dumonten/.local/lib/python3.12/site-packages (from -r requirements.txt (line 68)) (0.6.3)\n",
      "Requirement already satisfied: threadpoolctl==3.4.0 in /home/dumonten/.local/lib/python3.12/site-packages (from -r requirements.txt (line 69)) (3.4.0)\n",
      "Requirement already satisfied: tinycss2==1.2.1 in /usr/lib/python3.12/site-packages (from -r requirements.txt (line 70)) (1.2.1)\n",
      "Requirement already satisfied: tornado==6.4 in /home/dumonten/.local/lib/python3.12/site-packages (from -r requirements.txt (line 71)) (6.4)\n",
      "Requirement already satisfied: traitlets==5.14.2 in /home/dumonten/.local/lib/python3.12/site-packages (from -r requirements.txt (line 72)) (5.14.2)\n",
      "Requirement already satisfied: typing_extensions==4.11.0 in /home/dumonten/.local/lib/python3.12/site-packages (from -r requirements.txt (line 73)) (4.11.0)\n",
      "Requirement already satisfied: tzdata==2024.1 in /home/dumonten/.local/lib/python3.12/site-packages (from -r requirements.txt (line 74)) (2024.1)\n",
      "Requirement already satisfied: urllib3==2.2.1 in /home/dumonten/.local/lib/python3.12/site-packages (from -r requirements.txt (line 75)) (2.2.1)\n",
      "Requirement already satisfied: wcwidth==0.2.13 in /home/dumonten/.local/lib/python3.12/site-packages (from -r requirements.txt (line 76)) (0.2.13)\n",
      "Requirement already satisfied: webencodings==0.5.1 in /usr/lib/python3.12/site-packages (from -r requirements.txt (line 77)) (0.5.1)\n",
      "Requirement already satisfied: websocket-client==1.7.0 in /home/dumonten/.local/lib/python3.12/site-packages (from -r requirements.txt (line 78)) (1.7.0)\n",
      "Requirement already satisfied: yarl==1.9.4 in /home/dumonten/.local/lib/python3.12/site-packages (from -r requirements.txt (line 79)) (1.9.4)\n"
     ]
    }
   ],
   "source": [
    "!pip install -r requirements.txt"
   ]
  },
  {
   "cell_type": "code",
   "execution_count": 50,
   "id": "f67288ab-d009-40ff-8e7f-4c8e96912142",
   "metadata": {},
   "outputs": [
    {
     "name": "stdout",
     "output_type": "stream",
     "text": [
      "./plots/confusion_matrix.png\n",
      "./plots/accuracy_table.html\n",
      "./plots/box_plot_means.png\n",
      "./plots/box_plot_maxs.png\n",
      "./plots/box_plot_mins.png\n",
      "./plots/box_plot_average_deviation_type.png\n",
      "./plots/box_plot_floor_deviation_type.png\n",
      "./plots/box_plot_ceiling_deviation_type.png\n",
      "./plots/metrics_table.html\n"
     ]
    }
   ],
   "source": [
    "!python ./main.py \"https://ai-process-sandy.s3.eu-west-1.amazonaws.com/purge/deviation.json\""
   ]
  },
  {
   "cell_type": "markdown",
   "id": "740fa54a-1f3f-4d8b-8a69-6f18035b1ffd",
   "metadata": {},
   "source": [
    "## Analysis\n"
   ]
  },
  {
   "cell_type": "markdown",
   "id": "0e65113d-644b-45e2-aa5d-c5ba14e63426",
   "metadata": {},
   "source": [
    "> At this juncture, the `plots` directory should contain visual representations of plots and tables.\n",
    "\n",
    "Import all necessary modules:"
   ]
  },
  {
   "cell_type": "code",
   "execution_count": 51,
   "id": "f92a3890-2aad-4d37-a948-eb0b3aa6cf1c",
   "metadata": {},
   "outputs": [],
   "source": [
    "import pandas as pd \n",
    "import os\n",
    "from IPython.display import display, Image, HTML\n",
    "from PIL import Image as PilImage\n",
    "import matplotlib.pyplot as plt"
   ]
  },
  {
   "cell_type": "markdown",
   "id": "70d304cf-3e6b-416b-9870-96e3e7c2c3f5",
   "metadata": {},
   "source": [
    "Let's display the part of the data with which the analysis will be performed: "
   ]
  },
  {
   "cell_type": "code",
   "execution_count": 52,
   "id": "0c42c35c-7166-497c-a6c5-3ec7f5a7d565",
   "metadata": {},
   "outputs": [
    {
     "data": {
      "text/html": [
       "<div>\n",
       "<style scoped>\n",
       "    .dataframe tbody tr th:only-of-type {\n",
       "        vertical-align: middle;\n",
       "    }\n",
       "\n",
       "    .dataframe tbody tr th {\n",
       "        vertical-align: top;\n",
       "    }\n",
       "\n",
       "    .dataframe thead th {\n",
       "        text-align: right;\n",
       "    }\n",
       "</style>\n",
       "<table border=\"1\" class=\"dataframe\">\n",
       "  <thead>\n",
       "    <tr style=\"text-align: right;\">\n",
       "      <th></th>\n",
       "      <th>name</th>\n",
       "      <th>gt_corners</th>\n",
       "      <th>rb_corners</th>\n",
       "      <th>mean</th>\n",
       "      <th>max</th>\n",
       "      <th>min</th>\n",
       "      <th>floor_mean</th>\n",
       "      <th>floor_max</th>\n",
       "      <th>floor_min</th>\n",
       "      <th>ceiling_mean</th>\n",
       "      <th>ceiling_max</th>\n",
       "      <th>ceiling_min</th>\n",
       "    </tr>\n",
       "  </thead>\n",
       "  <tbody>\n",
       "    <tr>\n",
       "      <th>0</th>\n",
       "      <td>Schlafzimmer</td>\n",
       "      <td>4</td>\n",
       "      <td>4</td>\n",
       "      <td>3.956313</td>\n",
       "      <td>8.562939</td>\n",
       "      <td>0.274574</td>\n",
       "      <td>3.987864</td>\n",
       "      <td>8.562939</td>\n",
       "      <td>0.274574</td>\n",
       "      <td>3.924762</td>\n",
       "      <td>8.501885</td>\n",
       "      <td>0.331494</td>\n",
       "    </tr>\n",
       "    <tr>\n",
       "      <th>1</th>\n",
       "      <td>Küche</td>\n",
       "      <td>4</td>\n",
       "      <td>4</td>\n",
       "      <td>23.019122</td>\n",
       "      <td>52.605437</td>\n",
       "      <td>0.724299</td>\n",
       "      <td>1.253103</td>\n",
       "      <td>1.897612</td>\n",
       "      <td>0.724299</td>\n",
       "      <td>44.785141</td>\n",
       "      <td>52.605437</td>\n",
       "      <td>36.880814</td>\n",
       "    </tr>\n",
       "    <tr>\n",
       "      <th>2</th>\n",
       "      <td>Bathroom</td>\n",
       "      <td>4</td>\n",
       "      <td>4</td>\n",
       "      <td>1.013833</td>\n",
       "      <td>1.950322</td>\n",
       "      <td>0.301673</td>\n",
       "      <td>0.659138</td>\n",
       "      <td>1.318714</td>\n",
       "      <td>0.301673</td>\n",
       "      <td>1.368528</td>\n",
       "      <td>1.950322</td>\n",
       "      <td>0.878106</td>\n",
       "    </tr>\n",
       "    <tr>\n",
       "      <th>3</th>\n",
       "      <td>Lounge/Diner</td>\n",
       "      <td>8</td>\n",
       "      <td>8</td>\n",
       "      <td>3.832620</td>\n",
       "      <td>18.236935</td>\n",
       "      <td>0.173307</td>\n",
       "      <td>3.600083</td>\n",
       "      <td>15.041431</td>\n",
       "      <td>0.173307</td>\n",
       "      <td>4.065157</td>\n",
       "      <td>18.236935</td>\n",
       "      <td>0.253457</td>\n",
       "    </tr>\n",
       "    <tr>\n",
       "      <th>4</th>\n",
       "      <td>Essbereich</td>\n",
       "      <td>4</td>\n",
       "      <td>4</td>\n",
       "      <td>8.017758</td>\n",
       "      <td>15.642853</td>\n",
       "      <td>0.762948</td>\n",
       "      <td>7.819446</td>\n",
       "      <td>15.399635</td>\n",
       "      <td>0.762948</td>\n",
       "      <td>8.216069</td>\n",
       "      <td>15.642853</td>\n",
       "      <td>0.909029</td>\n",
       "    </tr>\n",
       "  </tbody>\n",
       "</table>\n",
       "</div>"
      ],
      "text/plain": [
       "           name  gt_corners  rb_corners       mean        max       min  \\\n",
       "0  Schlafzimmer           4           4   3.956313   8.562939  0.274574   \n",
       "1         Küche           4           4  23.019122  52.605437  0.724299   \n",
       "2      Bathroom           4           4   1.013833   1.950322  0.301673   \n",
       "3  Lounge/Diner           8           8   3.832620  18.236935  0.173307   \n",
       "4    Essbereich           4           4   8.017758  15.642853  0.762948   \n",
       "\n",
       "   floor_mean  floor_max  floor_min  ceiling_mean  ceiling_max  ceiling_min  \n",
       "0    3.987864   8.562939   0.274574      3.924762     8.501885     0.331494  \n",
       "1    1.253103   1.897612   0.724299     44.785141    52.605437    36.880814  \n",
       "2    0.659138   1.318714   0.301673      1.368528     1.950322     0.878106  \n",
       "3    3.600083  15.041431   0.173307      4.065157    18.236935     0.253457  \n",
       "4    7.819446  15.399635   0.762948      8.216069    15.642853     0.909029  "
      ]
     },
     "execution_count": 52,
     "metadata": {},
     "output_type": "execute_result"
    }
   ],
   "source": [
    "data = pd.read_json(\"https://ai-process-sandy.s3.eu-west-1.amazonaws.com/purge/deviation.json\")\n",
    "data.head(5)"
   ]
  },
  {
   "cell_type": "markdown",
   "id": "a56d4d96-e9c5-4ea1-ba1d-b3bd912497d6",
   "metadata": {},
   "source": [
    "Load all the plots and table files from the `plots` directory into the images variable:"
   ]
  },
  {
   "cell_type": "code",
   "execution_count": 53,
   "id": "90293c0c-413b-47f8-bfe2-255c07defd88",
   "metadata": {},
   "outputs": [
    {
     "name": "stdout",
     "output_type": "stream",
     "text": [
      "confusion_matrix.png\n",
      "accuracy_table.html\n",
      "box_plot_means.png\n",
      "box_plot_maxs.png\n",
      "box_plot_mins.png\n",
      "box_plot_average_deviation_type.png\n",
      "box_plot_floor_deviation_type.png\n",
      "box_plot_ceiling_deviation_type.png\n",
      "metrics_table.html\n"
     ]
    }
   ],
   "source": [
    "folder_path = './plots'\n",
    "images = {}\n",
    "\n",
    "for filename in os.listdir(folder_path):\n",
    "    file_path = os.path.join(folder_path, filename)\n",
    "    print(filename)\n",
    "    if filename.lower().endswith(('.png', '.jpg', '.jpeg', '.gif', '.bmp')):\n",
    "        images[filename] = Image(filename=file_path)\n",
    "    elif filename.lower().endswith('.html'):\n",
    "        with open(file_path, 'r') as file:\n",
    "            html_content = file.read()\n",
    "        images[filename] = HTML(html_content)\n",
    "    # display(images[filename])\n"
   ]
  },
  {
   "cell_type": "markdown",
   "id": "1bd7a3a1-e1a2-4127-81c3-c08c00741960",
   "metadata": {},
   "source": [
    "The task at hand is identified as a regression problem. The model's input is an image, and its objective is to predict the number of corners present in it. This prediction involves estimating a numerical value — the count of corners in a room image - which classifies the task as a regression problem.\n",
    "\n",
    "Determining the specific type of regression employed in the model is not feasible without knowledge of the training process and the activation functions utilized within the neural network.\n",
    "\n",
    "For assessing the performance of a regression model, error metrics are employed. Common metrics for regression model evaluation include:\n",
    "\n",
    "    MAE - Mean Absolute Error\n",
    "    MSE - Mean Squared Error\n",
    "    R2 - Coefficient of Determination\n",
    "\n",
    "Now, let's proceed to compute the metric data for the gt_corners and rb_corners values."
   ]
  },
  {
   "cell_type": "code",
   "execution_count": 54,
   "id": "83cbc7aa-1867-49d3-97aa-6eff91da5eb9",
   "metadata": {
    "scrolled": true
   },
   "outputs": [
    {
     "data": {
      "text/html": [
       "<table border=\"1\" class=\"dataframe\">\n",
       "  <thead>\n",
       "    <tr style=\"text-align: right;\">\n",
       "      <th></th>\n",
       "      <th>MAE</th>\n",
       "      <th>MSE</th>\n",
       "      <th>R2</th>\n",
       "    </tr>\n",
       "  </thead>\n",
       "  <tbody>\n",
       "    <tr>\n",
       "      <th>0</th>\n",
       "      <td>0.0</td>\n",
       "      <td>0.0</td>\n",
       "      <td>1.0</td>\n",
       "    </tr>\n",
       "  </tbody>\n",
       "</table>"
      ],
      "text/plain": [
       "<IPython.core.display.HTML object>"
      ]
     },
     "metadata": {},
     "output_type": "display_data"
    }
   ],
   "source": [
    "display(images['accuracy_table.html'])"
   ]
  },
  {
   "cell_type": "markdown",
   "id": "384c3a35-9d71-44e2-b385-bf5c7f75cacf",
   "metadata": {},
   "source": [
    "MAE and MSE are both equal to 0.0, and R2 is 1.0, it signifies an exact alignment of the model with the dataset. This outcome is exceptionally rare and could be considered suspicious, given the inherent presence of errors or random fluctuations in real-world data. Such a perfect match might suggest that the **model** is **retrained** \n",
    "\n",
    "For more clarity, we can consider the **confusion matrix**. Given that this is not a regression task, it is necessary to segment the data into intervals based on the number of corners:"
   ]
  },
  {
   "cell_type": "markdown",
   "id": "34cec6f2-1725-4f28-8872-c7b4ecf73fca",
   "metadata": {},
   "source": [
    "<div align=\"center\">\n",
    "    <img src=\"./plots/confusion_matrix.png\" alt=\"Confusion Matrix\" width=\"500\" height=\"400\">\n",
    "</div>"
   ]
  },
  {
   "cell_type": "markdown",
   "id": "a8d31656-7961-4d6f-8d4d-c8dd5e08b845",
   "metadata": {},
   "source": [
    "False Positives (FP) and False Negatives (FN) are both equal to 0, it signifies that the model accurately predicts classes without any misclassifications. This outcome indicates a model with flawless prediction capabilities.\n",
    "\n",
    "To investigate the possibility of retraining, it is advisable to employ **cross-validation** and **learning curves**. However, in the **absence of such data**, it becomes challenging to discern the underlying reasons for the model's behavior.\n",
    "\n",
    "Additionally, the significance of the columns, beginning with the `mean column`, remains ambiguous. It is unclear whether these columns represent deviations from 90 degrees. The nature of these deviations from the specified values is not evident. \n",
    "\n",
    "But the task necessitates *\"draws plot for comparing different columns\"*, so if it's required, statistical plots and a table will be presented for clarity further."
   ]
  },
  {
   "cell_type": "markdown",
   "id": "f2bf60e4-04e2-432f-8965-862a4fe7a141",
   "metadata": {},
   "source": [
    "Analysis of the average, maximum, and minimum values concerning the deviations in the corners of the floor, ceiling, and joint."
   ]
  },
  {
   "cell_type": "markdown",
   "id": "a308cbba-c727-459d-bcf3-78fa1eab212a",
   "metadata": {},
   "source": [
    "<div align=\"center\">\n",
    "    <img src=\"./plots/box_plot_means.png\" alt=\"box plot means\" height=\"200\">\n",
    "</div>\n",
    "\n",
    "****\n",
    "\n",
    "<div align=\"center\">\n",
    "    <img src=\"./plots/box_plot_maxs.png\" alt=\"box plot maxs\" height=\"4200\">\n",
    "</div>\n",
    "\n",
    "****\n",
    "\n",
    "<div align=\"center\">\n",
    "    <img src=\"./plots/box_plot_mins.png\" alt=\"box plot mins\" height=\"400\">\n",
    "</div>"
   ]
  },
  {
   "cell_type": "markdown",
   "id": "3c101864-838c-4377-8db3-88cba1b54eaf",
   "metadata": {},
   "source": [
    "Comparison of the mean, max and min values inside the readings of the deviations of the corners of the floor, ceiling and average."
   ]
  },
  {
   "cell_type": "markdown",
   "id": "6f02c1d3-7049-4c8a-8292-adc54dd6f9a3",
   "metadata": {},
   "source": [
    "<div align=\"center\">\n",
    "    <img src=\"./plots/box_plot_average_deviation_type.png\" alt=\"box plot means\" height=\"200\">\n",
    "</div>\n",
    "\n",
    "****\n",
    "\n",
    "<div align=\"center\">\n",
    "    <img src=\"./plots/box_plot_floor_deviation_type.png\" alt=\"box plot maxs\" height=\"200\">\n",
    "</div>\n",
    "\n",
    "****\n",
    "\n",
    "<div align=\"center\">\n",
    "    <img src=\"./plots/box_plot_ceiling_deviation_type.png\" alt=\"box plot mins\" height=\"200\">\n",
    "</div>"
   ]
  },
  {
   "cell_type": "markdown",
   "id": "714965c1-8eea-4823-abce-f19b3d268bcb",
   "metadata": {},
   "source": [
    "Now we'll compute the values of the \n",
    "\n",
    "    Mean Absolute Deviation (MAD), \n",
    "    Mean Absolute Percentage Deviation (MAD), \n",
    "    Root Mean Square Deviation (RMS), \n",
    "    and Emax \n",
    "    \n",
    "for each column, beginning from the sample in `mean column`, and compare these values with the average for the sample."
   ]
  },
  {
   "cell_type": "code",
   "execution_count": 55,
   "id": "58d15f5a-6ef3-4cd5-8f10-922c53c3a574",
   "metadata": {},
   "outputs": [
    {
     "data": {
      "text/html": [
       "<table border=\"1\" class=\"dataframe\">\n",
       "  <thead>\n",
       "    <tr style=\"text-align: right;\">\n",
       "      <th></th>\n",
       "      <th>MAD</th>\n",
       "      <th>MAPD</th>\n",
       "      <th>RMSD</th>\n",
       "      <th>Emax</th>\n",
       "    </tr>\n",
       "  </thead>\n",
       "  <tbody>\n",
       "    <tr>\n",
       "      <th>average_mean</th>\n",
       "      <td>15.191425</td>\n",
       "      <td>1065.359958</td>\n",
       "      <td>1.392600e-15</td>\n",
       "      <td>108.405735</td>\n",
       "    </tr>\n",
       "    <tr>\n",
       "      <th>floor_mean</th>\n",
       "      <td>12.819371</td>\n",
       "      <td>1144.635993</td>\n",
       "      <td>3.798001e-16</td>\n",
       "      <td>110.221640</td>\n",
       "    </tr>\n",
       "    <tr>\n",
       "      <th>ceiling_mean</th>\n",
       "      <td>17.806812</td>\n",
       "      <td>1129.725154</td>\n",
       "      <td>1.688001e-16</td>\n",
       "      <td>142.619276</td>\n",
       "    </tr>\n",
       "    <tr>\n",
       "      <th>average_max</th>\n",
       "      <td>29.825735</td>\n",
       "      <td>1137.246221</td>\n",
       "      <td>1.477000e-15</td>\n",
       "      <td>153.717472</td>\n",
       "    </tr>\n",
       "    <tr>\n",
       "      <th>floor_max</th>\n",
       "      <td>23.427776</td>\n",
       "      <td>1257.765007</td>\n",
       "      <td>8.440003e-17</td>\n",
       "      <td>157.556312</td>\n",
       "    </tr>\n",
       "    <tr>\n",
       "      <th>ceiling_max</th>\n",
       "      <td>29.528236</td>\n",
       "      <td>1203.304806</td>\n",
       "      <td>6.752002e-16</td>\n",
       "      <td>154.317464</td>\n",
       "    </tr>\n",
       "    <tr>\n",
       "      <th>average_min</th>\n",
       "      <td>4.362202</td>\n",
       "      <td>1628.980771</td>\n",
       "      <td>1.055000e-16</td>\n",
       "      <td>78.844095</td>\n",
       "    </tr>\n",
       "    <tr>\n",
       "      <th>floor_min</th>\n",
       "      <td>4.626524</td>\n",
       "      <td>1560.076840</td>\n",
       "      <td>0.000000e+00</td>\n",
       "      <td>78.645259</td>\n",
       "    </tr>\n",
       "    <tr>\n",
       "      <th>ceiling_min</th>\n",
       "      <td>7.872465</td>\n",
       "      <td>1532.694312</td>\n",
       "      <td>3.165001e-17</td>\n",
       "      <td>138.951096</td>\n",
       "    </tr>\n",
       "  </tbody>\n",
       "</table>"
      ],
      "text/plain": [
       "<IPython.core.display.HTML object>"
      ]
     },
     "metadata": {},
     "output_type": "display_data"
    }
   ],
   "source": [
    "display(images['metrics_table.html'])"
   ]
  }
 ],
 "metadata": {
  "kernelspec": {
   "display_name": "Python 3 (ipykernel)",
   "language": "python",
   "name": "python3"
  },
  "language_info": {
   "codemirror_mode": {
    "name": "ipython",
    "version": 3
   },
   "file_extension": ".py",
   "mimetype": "text/x-python",
   "name": "python",
   "nbconvert_exporter": "python",
   "pygments_lexer": "ipython3",
   "version": "3.12.2"
  }
 },
 "nbformat": 4,
 "nbformat_minor": 5
}
